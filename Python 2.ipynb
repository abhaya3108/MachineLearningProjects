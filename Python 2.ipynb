{
 "cells": [
  {
   "cell_type": "code",
   "execution_count": 22,
   "metadata": {},
   "outputs": [
    {
     "name": "stdout",
     "output_type": "stream",
     "text": [
      "Enter a few comma-separated numbers: 1,2,3,43,4,3,3,4,3,3,4,5,4,3,2,2,3,4,43,23,2,1,1,1,2,2,2,3,32,4,4,3,43,32,2,4,43,5,4,4\n",
      "['1', '2', '3', '43', '4', '3', '3', '4', '3', '3', '4', '5', '4', '3', '2', '2', '3', '4', '43', '23', '2', '1', '1', '1', '2', '2', '2', '3', '32', '4', '4', '3', '43', '32', '2', '4', '43', '5', '4', '4']\n"
     ]
    }
   ],
   "source": [
    "nums = input(\"Enter a few comma-separated numbers: \")\n",
    "nums_list = nums.split(',')\n",
    "print(nums_list)"
   ]
  },
  {
   "cell_type": "code",
   "execution_count": 24,
   "metadata": {},
   "outputs": [
    {
     "name": "stdout",
     "output_type": "stream",
     "text": [
      "*\n",
      "**\n",
      "***\n",
      "****\n",
      "*****\n",
      "****\n",
      "***\n",
      "**\n",
      "*\n"
     ]
    }
   ],
   "source": [
    "for i in range(1,6):\n",
    "    print('*'*i)\n",
    "    if i==5:\n",
    "        for j in range(4,0,-1):\n",
    "            print('*'*j)"
   ]
  },
  {
   "cell_type": "code",
   "execution_count": 25,
   "metadata": {},
   "outputs": [
    {
     "name": "stdout",
     "output_type": "stream",
     "text": [
      "Enter a string: AcadGild\n",
      "dliGdacA\n"
     ]
    }
   ],
   "source": [
    "word = input(\"Enter a string: \")\n",
    "reverse_word = word[::-1]\n",
    "print(reverse_word)"
   ]
  },
  {
   "cell_type": "code",
   "execution_count": 27,
   "metadata": {},
   "outputs": [
    {
     "name": "stdout",
     "output_type": "stream",
     "text": [
      "WE, THE PEOPLE OF INDIA, \n",
      "\t having solemnly resolved to constitute India into a SOVEREIGN,!\n",
      "\t\t SOCIALIST, SECULAR, DEMOCRATIC \n",
      "\t\t  REPUBLIC and to secure to all its citizens\n"
     ]
    }
   ],
   "source": [
    "sen = \"WE, THE PEOPLE OF INDIA, \\n\\t having solemnly resolved to constitute India into a SOVEREIGN,\\\n",
    "\" + \"!\" +\"\\n\\t\\t SOCIALIST, SECULAR, DEMOCRATIC \\n\\t\\t \" + \" \" +\"REPUBLIC and to secure to all its citizens\"\n",
    "print(sen)"
   ]
  }
 ],
 "metadata": {
  "kernelspec": {
   "display_name": "Python 3",
   "language": "python",
   "name": "python3"
  },
  "language_info": {
   "codemirror_mode": {
    "name": "ipython",
    "version": 3
   },
   "file_extension": ".py",
   "mimetype": "text/x-python",
   "name": "python",
   "nbconvert_exporter": "python",
   "pygments_lexer": "ipython3",
   "version": "3.7.1"
  }
 },
 "nbformat": 4,
 "nbformat_minor": 2
}
