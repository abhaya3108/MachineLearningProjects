{
 "cells": [
  {
   "cell_type": "code",
   "execution_count": 32,
   "metadata": {},
   "outputs": [
    {
     "name": "stdout",
     "output_type": "stream",
     "text": [
      "Enter a list separated by commas: 1,2,3,4,5,6,7,8,9,10\n",
      "The sum of numbers in the list using my reduce function is 55\n"
     ]
    }
   ],
   "source": [
    "def myreduce(l):\n",
    "    l=input(\"Enter a list separated by commas: \")\n",
    "    elems=l.split(',')\n",
    "    summ = 0;\n",
    "    for i in elems:\n",
    "        summ+=int(i)\n",
    "    print(\"The sum of numbers in the list using my reduce function is \" + str(summ))\n",
    "    \n",
    "myreduce(l)   "
   ]
  },
  {
   "cell_type": "code",
   "execution_count": 33,
   "metadata": {},
   "outputs": [
    {
     "name": "stdout",
     "output_type": "stream",
     "text": [
      "Filter only positive integers using my filter function: [1, 3, 5]\n"
     ]
    }
   ],
   "source": [
    "def myfilter(anyfunc,sequence):\n",
    "    result=[]\n",
    "    for item in sequence:\n",
    "        if anyfunc(item):\n",
    "            result.append(item)\n",
    "    return result\n",
    "    \n",
    "def ispositive(x):\n",
    "    if (x>0):\n",
    "        return True\n",
    "    else:\n",
    "        return False\n",
    "    \n",
    "print(\"Filter only positive integers using my filter function: \" + str(myfilter(ispositive, [1,-4,3,5,-9])))\n",
    "    "
   ]
  },
  {
   "cell_type": "code",
   "execution_count": 34,
   "metadata": {},
   "outputs": [
    {
     "name": "stdout",
     "output_type": "stream",
     "text": [
      "['A', 'C', 'A', 'D', 'G', 'I', 'L', 'D']\n",
      "['x', 'xx', 'xxx', 'xxxx', 'y', 'yy', 'yyy', 'yyyy', 'z', 'zz', 'zzz', 'zzzz']\n",
      "['x', 'y', 'z', 'xx', 'yy', 'zz', 'xxx', 'yyy', 'zzz', 'xxxx', 'yyyy', 'zzzz']\n",
      "[[2], [3], [4], [3], [4], [5], [4], [5], [6]]\n"
     ]
    }
   ],
   "source": [
    "var1 = 'ACADGILD'\n",
    "listcomp1 = [i for i in var1]\n",
    "print(listcomp1)\n",
    "\n",
    "var2 = ['x','y','z']\n",
    "listcomp2 = [j*i for j in var2 for i in range(1,5)]\n",
    "print(listcomp2)\n",
    "\n",
    "listcomp3 = [j*i  for i in range(1,5) for j in var2]\n",
    "print(listcomp3)\n",
    "\n",
    "var3 = [1,2,3]\n",
    "listcomp4 = [[i+j] for i in var3 for j in range(1,4)]\n",
    "print(listcomp4)"
   ]
  },
  {
   "cell_type": "code",
   "execution_count": 49,
   "metadata": {},
   "outputs": [
    {
     "name": "stdout",
     "output_type": "stream",
     "text": [
      "('The lomgest_word:', 'Python is Awesome', 'with the length', 17)\n"
     ]
    }
   ],
   "source": [
    "def find_longest_word(words_list):\n",
    "    word_len = []\n",
    "    for n in words_list:\n",
    "        word_len.append((len(n), n))\n",
    "    word_len.sort()\n",
    "    return('The lomgest_word:',word_len[-1][1],'with the length' ,word_len[-1][0])\n",
    "\n",
    "words= ['Python','Interpreter','Compiler','Statistics', 'Humongous', 'Python is Awesome']\n",
    "print(find_longest_word(words))\n",
    "        "
   ]
  }
 ],
 "metadata": {
  "kernelspec": {
   "display_name": "Python 3",
   "language": "python",
   "name": "python3"
  },
  "language_info": {
   "codemirror_mode": {
    "name": "ipython",
    "version": 3
   },
   "file_extension": ".py",
   "mimetype": "text/x-python",
   "name": "python",
   "nbconvert_exporter": "python",
   "pygments_lexer": "ipython3",
   "version": "3.7.1"
  }
 },
 "nbformat": 4,
 "nbformat_minor": 2
}
