{
 "cells": [
  {
   "cell_type": "code",
   "execution_count": 82,
   "metadata": {},
   "outputs": [
    {
     "name": "stdout",
     "output_type": "stream",
     "text": [
      "[[[ 1  1  1]\n",
      "  [49  7  1]\n",
      "  [ 9  3  1]\n",
      "  [25  5  1]]]\n"
     ]
    }
   ],
   "source": [
    "def vander(x,N,increasing):\n",
    "    if increasing == True:\n",
    "        matrix = [[x[i-1]**(j-1) for j in range(1,N+1)] for i in range(1,len(x)+1)]\n",
    "    elif increasing == False:\n",
    "        matrix = [[x[i-1]**(j-1) for j in range(1,N+1)][::-1] for i in range(1,len(x)+1)]\n",
    "    else:\n",
    "        print(\"Wrong input! Please execute again\")\n",
    "    return np.array([matrix])\n",
    "    \n",
    "print(vander([1,7,3,5],3,False))"
   ]
  },
  {
   "cell_type": "code",
   "execution_count": 98,
   "metadata": {},
   "outputs": [
    {
     "name": "stdout",
     "output_type": "stream",
     "text": [
      "Thus, the moving average sequence has 11 values: [  5.           4.66666667   5.66666667   6.66666667   9.66666667\n",
      "  28.66666667  49.33333333  72.66666667  84.          93.33333333\n",
      " 116.33333333]\n"
     ]
    }
   ],
   "source": [
    "import numpy as np\n",
    "def find_moving_average(l,w):\n",
    "    rep = np.repeat(1.0,w)/w\n",
    "    smas = np.convolve(l,rep,'valid')\n",
    "    return smas\n",
    "\n",
    "n = [3, 5, 7, 2, 8, 10, 11, 65, 72, 81, 99, 100, 150]\n",
    "print(\"Thus, the moving average sequence has {} values: \".format(len(find_moving_average(n, 3))) + str(find_moving_average(n, 3)))"
   ]
  }
 ],
 "metadata": {
  "kernelspec": {
   "display_name": "Python 3",
   "language": "python",
   "name": "python3"
  },
  "language_info": {
   "codemirror_mode": {
    "name": "ipython",
    "version": 3
   },
   "file_extension": ".py",
   "mimetype": "text/x-python",
   "name": "python",
   "nbconvert_exporter": "python",
   "pygments_lexer": "ipython3",
   "version": "3.7.1"
  }
 },
 "nbformat": 4,
 "nbformat_minor": 2
}
