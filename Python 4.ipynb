{
 "cells": [
  {
   "cell_type": "code",
   "execution_count": 31,
   "metadata": {},
   "outputs": [
    {
     "data": {
      "text/plain": [
       "'The area of the triangle with sides 3, 4 and 5 is 6.0'"
      ]
     },
     "execution_count": 31,
     "metadata": {},
     "output_type": "execute_result"
    }
   ],
   "source": [
    "class Triangle:\n",
    "    def __init__(self, lengths_of_sides):\n",
    "        self.lengths_of_sides = lengths_of_sides  # list of three numbers\n",
    "    \n",
    "class Area(Triangle):\n",
    "    \n",
    "    def get_area(self,lengths_of_sides):\n",
    "        '''return the area of the triangle using the semi-perimeter method'''\n",
    "        a, b, c = self.lengths_of_sides\n",
    "\n",
    "        # calculate the semi-perimeter\n",
    "        s = (a + b + c) / 2\n",
    "        area = (s*(s-a)*(s-b)*(s-c)) ** 0.5\n",
    "        return (\"The area of the triangle with sides {}, {} and {} is {}\" .format(str(a),str(b),str(c),str(area))) \n",
    "    \n",
    "obj = Area([3,4,5])\n",
    "obj.get_area(3)"
   ]
  },
  {
   "cell_type": "code",
   "execution_count": 34,
   "metadata": {},
   "outputs": [
    {
     "name": "stdout",
     "output_type": "stream",
     "text": [
      "The words longer than 6 are ['Awesome', 'Compiler']\n"
     ]
    }
   ],
   "source": [
    "def filter_long_words(words,n):\n",
    "    long_words=[]\n",
    "    for i in words:\n",
    "        if len(i)>n:\n",
    "            long_words.append(i)\n",
    "    print(\"The words longer than {} are\".format(str(n)),long_words)\n",
    "            \n",
    "filter_long_words(['Abhaya','Python','Human','Awesome','Compiler'],6)"
   ]
  },
  {
   "cell_type": "code",
   "execution_count": 36,
   "metadata": {},
   "outputs": [
    {
     "name": "stdout",
     "output_type": "stream",
     "text": [
      "The list of integers representing the lengths of the corresponding words are  [6, 6, 5, 7, 8]\n"
     ]
    }
   ],
   "source": [
    "def map_words_to_their_length(l):\n",
    "    word_length_list=[]\n",
    "    for i in l:\n",
    "        word_length_list.append(len(i))\n",
    "    print(\"The list of integers representing the lengths of the corresponding words are \", word_length_list)\n",
    "    \n",
    "map_words_to_their_length(['Abhaya','Python','Human','Awesome','Compiler'])\n",
    "        "
   ]
  },
  {
   "cell_type": "code",
   "execution_count": 43,
   "metadata": {},
   "outputs": [
    {
     "name": "stdout",
     "output_type": "stream",
     "text": [
      "Enter a character: i\n"
     ]
    },
    {
     "data": {
      "text/plain": [
       "True"
      ]
     },
     "execution_count": 43,
     "metadata": {},
     "output_type": "execute_result"
    }
   ],
   "source": [
    "s=input('Enter a character: ')\n",
    "def is_vowel(s):\n",
    "    vowels=['a','e','i','o','u']\n",
    "    if s in vowels:\n",
    "        return True\n",
    "    else:\n",
    "        return False\n",
    "    \n",
    "is_vowel(s)\n",
    "    "
   ]
  }
 ],
 "metadata": {
  "kernelspec": {
   "display_name": "Python 3",
   "language": "python",
   "name": "python3"
  },
  "language_info": {
   "codemirror_mode": {
    "name": "ipython",
    "version": 3
   },
   "file_extension": ".py",
   "mimetype": "text/x-python",
   "name": "python",
   "nbconvert_exporter": "python",
   "pygments_lexer": "ipython3",
   "version": "3.7.1"
  }
 },
 "nbformat": 4,
 "nbformat_minor": 2
}
