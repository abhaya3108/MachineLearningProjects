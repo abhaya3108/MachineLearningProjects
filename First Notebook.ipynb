{
 "cells": [
  {
   "cell_type": "code",
   "execution_count": 1,
   "metadata": {},
   "outputs": [
    {
     "name": "stdout",
     "output_type": "stream",
     "text": [
      "55\n"
     ]
    }
   ],
   "source": [
    "def sum(items):\n",
    "    sum = 0\n",
    "    for i in items:\n",
    "        sum += i\n",
    "    return sum\n",
    "print(sum([1,2,3,4,5,6,7,8,9,10]))"
   ]
  },
  {
   "cell_type": "code",
   "execution_count": 7,
   "metadata": {},
   "outputs": [
    {
     "data": {
      "text/plain": [
       "'hi      my      name    is      soumya'"
      ]
     },
     "execution_count": 7,
     "metadata": {},
     "output_type": "execute_result"
    }
   ],
   "source": [
    "'hi\\tmy\\tname\\tis\\tsoumya'.expandtabs()\n"
   ]
  },
  {
   "cell_type": "code",
   "execution_count": 2,
   "metadata": {},
   "outputs": [
    {
     "name": "stdout",
     "output_type": "stream",
     "text": [
      "lo l\n"
     ]
    }
   ],
   "source": [
    "s = \"Hello World\"\n",
    "print(s[-2:-9:-2])"
   ]
  },
  {
   "cell_type": "code",
   "execution_count": 5,
   "metadata": {},
   "outputs": [
    {
     "data": {
      "text/plain": [
       "'hellohi'"
      ]
     },
     "execution_count": 5,
     "metadata": {},
     "output_type": "execute_result"
    }
   ],
   "source": [
    "\"hellohi\".expandtabs()\n"
   ]
  },
  {
   "cell_type": "code",
   "execution_count": 10,
   "metadata": {},
   "outputs": [
    {
     "data": {
      "text/plain": [
       "[1, 2, 3, [1, 2, 3], [2, 3, 4]]"
      ]
     },
     "execution_count": 10,
     "metadata": {},
     "output_type": "execute_result"
    }
   ],
   "source": [
    "x=[1,2,3]\n",
    "x.extend([[1,2,3],[2,3,4]])\n",
    "x\n"
   ]
  },
  {
   "cell_type": "code",
   "execution_count": 1,
   "metadata": {},
   "outputs": [
    {
     "data": {
      "text/plain": [
       "'hello   hi'"
      ]
     },
     "execution_count": 1,
     "metadata": {},
     "output_type": "execute_result"
    }
   ],
   "source": [
    "\"hello\\thi\".expandtabs()\n"
   ]
  },
  {
   "cell_type": "code",
   "execution_count": 3,
   "metadata": {},
   "outputs": [
    {
     "data": {
      "text/plain": [
       "[1, 2, 3, 4]"
      ]
     },
     "execution_count": 3,
     "metadata": {},
     "output_type": "execute_result"
    }
   ],
   "source": [
    "a=[1,2,3]\n",
    "a.append(4)\n",
    "a\n"
   ]
  },
  {
   "cell_type": "code",
   "execution_count": 4,
   "metadata": {},
   "outputs": [
    {
     "data": {
      "text/plain": [
       "[1, 2, 3, 4]"
      ]
     },
     "execution_count": 4,
     "metadata": {},
     "output_type": "execute_result"
    }
   ],
   "source": [
    "a"
   ]
  },
  {
   "cell_type": "code",
   "execution_count": 16,
   "metadata": {},
   "outputs": [
    {
     "data": {
      "text/plain": [
       "['1', '2', '4', 'a', 'b', 'c']"
      ]
     },
     "execution_count": 16,
     "metadata": {},
     "output_type": "execute_result"
    }
   ],
   "source": [
    "l=[str(1),str(4),str(2),'a','b','c']\n",
    "l.sort()\n",
    "l"
   ]
  },
  {
   "cell_type": "code",
   "execution_count": 17,
   "metadata": {},
   "outputs": [
    {
     "data": {
      "text/plain": [
       "3"
      ]
     },
     "execution_count": 17,
     "metadata": {},
     "output_type": "execute_result"
    }
   ],
   "source": [
    "my_dict={'key1':123,'key2':[1,2,3]}\n",
    "my_dict['key2'][len(my_dict['key2'])-1] "
   ]
  },
  {
   "cell_type": "code",
   "execution_count": 22,
   "metadata": {},
   "outputs": [
    {
     "data": {
      "text/plain": [
       "[{'name': ['abhaya', 'soumya'], 'age': 20, 'gender': ('male', 'female')},\n",
       " {'name': ['abhaya', 'soumya'], 'age': 20, 'gender': ('male', 'female')}]"
      ]
     },
     "execution_count": 22,
     "metadata": {},
     "output_type": "execute_result"
    }
   ],
   "source": [
    "d={\"name\":[\"abhaya\",\"soumya\"],\"age\":20,\"gender\":(\"male\",\"female\")}\n",
    "l=[d,d]\n",
    "l\n"
   ]
  },
  {
   "cell_type": "code",
   "execution_count": 24,
   "metadata": {},
   "outputs": [
    {
     "name": "stdout",
     "output_type": "stream",
     "text": [
      "15\n"
     ]
    }
   ],
   "source": [
    "l=[1,2,3,4,5]\n",
    "sum=0\n",
    "for i in l:\n",
    "    sum=sum+i\n",
    "print(sum)"
   ]
  },
  {
   "cell_type": "code",
   "execution_count": 28,
   "metadata": {},
   "outputs": [
    {
     "data": {
      "text/plain": [
       "(3, 4, 6)"
      ]
     },
     "execution_count": 28,
     "metadata": {},
     "output_type": "execute_result"
    }
   ],
   "source": [
    "def example(a,b,c):\n",
    "    x=a+b\n",
    "    y=a+c\n",
    "    z=a+b+c\n",
    "    return x,y,z\n",
    "\n",
    "example(1,2,3)\n"
   ]
  },
  {
   "cell_type": "code",
   "execution_count": 37,
   "metadata": {
    "scrolled": false
   },
   "outputs": [
    {
     "name": "stdout",
     "output_type": "stream",
     "text": [
      "prime\n"
     ]
    }
   ],
   "source": [
    "def isprime(n):\n",
    "    flag=0\n",
    "    for i in range(2,n):\n",
    "        if n%i==0:\n",
    "            flag=1\n",
    "            break\n",
    "        else:\n",
    "            flag=0\n",
    "    if flag==1:\n",
    "        print(\"non prime\")\n",
    "    else:\n",
    "        print(\"prime\")\n",
    "    \n",
    "isprime(17)"
   ]
  },
  {
   "cell_type": "code",
   "execution_count": 2,
   "metadata": {},
   "outputs": [
    {
     "name": "stdout",
     "output_type": "stream",
     "text": [
      "103\n"
     ]
    }
   ],
   "source": [
    "def sum_elements(l):\n",
    "    summ=0\n",
    "    for i in l:\n",
    "        summ=summ+i\n",
    "    print(summ)\n",
    "\n",
    "sum_elements([1,2,3,32,4,4,3,4,43,3,4])\n",
    "        "
   ]
  },
  {
   "cell_type": "code",
   "execution_count": null,
   "metadata": {},
   "outputs": [],
   "source": [
    "a =['abc','xyz','aba','1221','bhgsskknb','aa']\n",
    "for i in a:\n",
    "    if (len(i)>=2):\n",
    "        if (i[0]==i[len(i)-1]):\n",
    "            print(i)\n"
   ]
  },
  {
   "cell_type": "code",
   "execution_count": 5,
   "metadata": {},
   "outputs": [
    {
     "name": "stdout",
     "output_type": "stream",
     "text": [
      "Armstrong\n"
     ]
    }
   ],
   "source": [
    "def is_armstrong(a):\n",
    "    orig=a\n",
    "    summ=0\n",
    "    while(orig):\n",
    "        rem=orig%10\n",
    "        summ=summ+rem*rem*rem\n",
    "        orig=orig//10\n",
    "    if(a==summ):\n",
    "        print(\"Armstrong\")\n",
    "    else:\n",
    "        print(\"Not armstrong\")\n",
    "        \n",
    "is_armstrong(371)\n",
    "    "
   ]
  },
  {
   "cell_type": "code",
   "execution_count": 8,
   "metadata": {},
   "outputs": [
    {
     "name": "stdout",
     "output_type": "stream",
     "text": [
      "33.8\n",
      "35.6\n",
      "37.4\n",
      "39.2\n"
     ]
    }
   ],
   "source": [
    "def farehnite(T):\n",
    "    return (float(9/5)*T + 32)\n",
    "def celsius(temp):\n",
    "    return(float(5/9)*(T-32))\n",
    "temp=[1,2,3,4]\n",
    "for i in temp:\n",
    "    print(farehnite(i))\n"
   ]
  },
  {
   "cell_type": "code",
   "execution_count": 9,
   "metadata": {},
   "outputs": [
    {
     "data": {
      "text/plain": [
       "[33.8, 35.6, 37.4, 39.2]"
      ]
     },
     "execution_count": 9,
     "metadata": {},
     "output_type": "execute_result"
    }
   ],
   "source": [
    "def farehnite(T):\n",
    "    return (float(9/5)*T + 32)\n",
    "temp=[1,2,3,4]\n",
    "x=list(map(farehnite,temp))\n",
    "x"
   ]
  },
  {
   "cell_type": "code",
   "execution_count": 15,
   "metadata": {},
   "outputs": [
    {
     "data": {
      "text/plain": [
       "[32.55555555555556, 33.111111111111114, 33.666666666666664, 34.22222222222222]"
      ]
     },
     "execution_count": 15,
     "metadata": {},
     "output_type": "execute_result"
    }
   ],
   "source": [
    "x=list(map(lambda T : float(5/9)*T + 32,[1,2,3,4]))\n",
    "x"
   ]
  },
  {
   "cell_type": "code",
   "execution_count": 6,
   "metadata": {},
   "outputs": [
    {
     "name": "stdout",
     "output_type": "stream",
     "text": [
      "Not palindrome\n",
      "Not palindrome\n"
     ]
    }
   ],
   "source": [
    "def is_palindrome(a):\n",
    "    mid = int(len(a)/2)\n",
    "    for i in range(0,mid):\n",
    "        if(a[i]==a[len(a)-1-i]):\n",
    "            print(\"Palindrome\")\n",
    "        else:\n",
    "            print(\"Not palindrome\")\n",
    "            \n",
    "is_palindrome(\"momo\")"
   ]
  },
  {
   "cell_type": "code",
   "execution_count": 67,
   "metadata": {},
   "outputs": [],
   "source": [
    "for i in open(\"C:/Users/panda4/test.txt\"):\n",
    "    print(i)\n"
   ]
  },
  {
   "cell_type": "code",
   "execution_count": 73,
   "metadata": {},
   "outputs": [
    {
     "name": "stdout",
     "output_type": "stream",
     "text": [
      "Couldn't find the file or read data\n"
     ]
    }
   ],
   "source": [
    "try:\n",
    "    f=open(\"C:/Users/panda4/test.txt\",\"r\")\n",
    "    f.write(\"My name is Natia Panda\")\n",
    "except IOError:\n",
    "    print(\"Couldn't find the file or read data\")\n",
    "else:\n",
    "    print(\"data inserted successfully\")\n",
    "    f.close()"
   ]
  },
  {
   "cell_type": "code",
   "execution_count": 1,
   "metadata": {},
   "outputs": [
    {
     "name": "stdout",
     "output_type": "stream",
     "text": [
      "Enter an integer: 43\n",
      "yup,thats an interger\n",
      "finally,I executed\n",
      "43\n"
     ]
    }
   ],
   "source": [
    "def example():\n",
    "    while True:\n",
    "        try:\n",
    "            x=int(input(\"Enter an integer: \"))\n",
    "        except:\n",
    "            print(\"Enter a valid integer\")\n",
    "            continue\n",
    "        else:\n",
    "            print(\"yup,thats an interger\")\n",
    "            break\n",
    "        finally:\n",
    "            print(\"finally,I executed\")\n",
    "    print(x)\n",
    "example()"
   ]
  },
  {
   "cell_type": "code",
   "execution_count": 7,
   "metadata": {},
   "outputs": [
    {
     "data": {
      "text/plain": [
       "-1.6448536269514729"
      ]
     },
     "execution_count": 7,
     "metadata": {},
     "output_type": "execute_result"
    }
   ],
   "source": [
    "import scipy\n",
    "scipy.stats.norm.ppf(0.05)\n"
   ]
  }
 ],
 "metadata": {
  "kernelspec": {
   "display_name": "Python 3",
   "language": "python",
   "name": "python3"
  },
  "language_info": {
   "codemirror_mode": {
    "name": "ipython",
    "version": 3
   },
   "file_extension": ".py",
   "mimetype": "text/x-python",
   "name": "python",
   "nbconvert_exporter": "python",
   "pygments_lexer": "ipython3",
   "version": "3.7.1"
  }
 },
 "nbformat": 4,
 "nbformat_minor": 2
}
