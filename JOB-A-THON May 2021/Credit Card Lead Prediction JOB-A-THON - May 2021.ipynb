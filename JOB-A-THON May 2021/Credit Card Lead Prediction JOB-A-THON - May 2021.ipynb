{
 "cells": [
  {
   "cell_type": "code",
   "execution_count": 1,
   "metadata": {
    "_cell_guid": "b1076dfc-b9ad-4769-8c92-a6c4dae69d19",
    "_uuid": "8f2839f25d086af736a60e9eeb907d3b93b6e0e5",
    "execution": {
     "iopub.execute_input": "2021-05-28T12:01:07.716790Z",
     "iopub.status.busy": "2021-05-28T12:01:07.715282Z",
     "iopub.status.idle": "2021-05-28T12:01:08.453340Z",
     "shell.execute_reply": "2021-05-28T12:01:08.451944Z",
     "shell.execute_reply.started": "2021-05-28T11:29:26.433288Z"
    },
    "papermill": {
     "duration": 0.76326,
     "end_time": "2021-05-28T12:01:08.453564",
     "exception": false,
     "start_time": "2021-05-28T12:01:07.690304",
     "status": "completed"
    },
    "tags": []
   },
   "outputs": [],
   "source": [
    "# import all the required libraries\n",
    "import numpy as np\n",
    "import pandas as pd \n",
    "import matplotlib.pyplot as plt\n",
    "%matplotlib inline\n",
    "import seaborn as sns\n",
    "import warnings\n",
    "warnings.filterwarnings('ignore')"
   ]
  },
  {
   "cell_type": "code",
   "execution_count": 2,
   "metadata": {
    "execution": {
     "iopub.execute_input": "2021-05-28T12:01:08.510309Z",
     "iopub.status.busy": "2021-05-28T12:01:08.509642Z",
     "iopub.status.idle": "2021-05-28T12:01:09.141161Z",
     "shell.execute_reply": "2021-05-28T12:01:09.140610Z",
     "shell.execute_reply.started": "2021-05-28T11:29:26.492183Z"
    },
    "papermill": {
     "duration": 0.664405,
     "end_time": "2021-05-28T12:01:09.141301",
     "exception": false,
     "start_time": "2021-05-28T12:01:08.476896",
     "status": "completed"
    },
    "tags": []
   },
   "outputs": [],
   "source": [
    "# train and test data\n",
    "train = pd.read_csv('train_s3TEQDk.csv')\n",
    "test = pd.read_csv('test_mSzZ8RL.csv')"
   ]
  },
  {
   "cell_type": "code",
   "execution_count": 3,
   "metadata": {
    "execution": {
     "iopub.execute_input": "2021-05-28T12:01:09.191177Z",
     "iopub.status.busy": "2021-05-28T12:01:09.190305Z",
     "iopub.status.idle": "2021-05-28T12:01:09.194487Z",
     "shell.execute_reply": "2021-05-28T12:01:09.194067Z",
     "shell.execute_reply.started": "2021-05-28T11:29:26.879646Z"
    },
    "papermill": {
     "duration": 0.033176,
     "end_time": "2021-05-28T12:01:09.194598",
     "exception": false,
     "start_time": "2021-05-28T12:01:09.161422",
     "status": "completed"
    },
    "tags": []
   },
   "outputs": [
    {
     "data": {
      "text/plain": [
       "((245725, 11), (105312, 10))"
      ]
     },
     "execution_count": 3,
     "metadata": {},
     "output_type": "execute_result"
    }
   ],
   "source": [
    "train.shape, test.shape"
   ]
  },
  {
   "cell_type": "code",
   "execution_count": 4,
   "metadata": {
    "execution": {
     "iopub.execute_input": "2021-05-28T12:01:09.242393Z",
     "iopub.status.busy": "2021-05-28T12:01:09.241683Z",
     "iopub.status.idle": "2021-05-28T12:01:09.396759Z",
     "shell.execute_reply": "2021-05-28T12:01:09.396314Z",
     "shell.execute_reply.started": "2021-05-28T11:29:26.890690Z"
    },
    "papermill": {
     "duration": 0.181693,
     "end_time": "2021-05-28T12:01:09.396885",
     "exception": false,
     "start_time": "2021-05-28T12:01:09.215192",
     "status": "completed"
    },
    "tags": []
   },
   "outputs": [],
   "source": [
    "train['source'] = 'train'\n",
    "test['source'] = 'test'\n",
    "data = pd.concat([train,test],ignore_index=True)"
   ]
  },
  {
   "cell_type": "code",
   "execution_count": 5,
   "metadata": {
    "execution": {
     "iopub.execute_input": "2021-05-28T12:01:09.442850Z",
     "iopub.status.busy": "2021-05-28T12:01:09.442087Z",
     "iopub.status.idle": "2021-05-28T12:01:09.445632Z",
     "shell.execute_reply": "2021-05-28T12:01:09.445176Z",
     "shell.execute_reply.started": "2021-05-28T11:29:26.996867Z"
    },
    "papermill": {
     "duration": 0.0281,
     "end_time": "2021-05-28T12:01:09.445743",
     "exception": false,
     "start_time": "2021-05-28T12:01:09.417643",
     "status": "completed"
    },
    "tags": []
   },
   "outputs": [
    {
     "data": {
      "text/plain": [
       "(351037, 12)"
      ]
     },
     "execution_count": 5,
     "metadata": {},
     "output_type": "execute_result"
    }
   ],
   "source": [
    "# combined train and test data shape\n",
    "data.shape"
   ]
  },
  {
   "cell_type": "code",
   "execution_count": 6,
   "metadata": {
    "execution": {
     "iopub.execute_input": "2021-05-28T12:01:09.498225Z",
     "iopub.status.busy": "2021-05-28T12:01:09.497270Z",
     "iopub.status.idle": "2021-05-28T12:01:09.508402Z",
     "shell.execute_reply": "2021-05-28T12:01:09.507930Z",
     "shell.execute_reply.started": "2021-05-28T11:29:27.005652Z"
    },
    "papermill": {
     "duration": 0.04212,
     "end_time": "2021-05-28T12:01:09.508533",
     "exception": false,
     "start_time": "2021-05-28T12:01:09.466413",
     "status": "completed"
    },
    "tags": []
   },
   "outputs": [
    {
     "data": {
      "text/html": [
       "<div>\n",
       "<style scoped>\n",
       "    .dataframe tbody tr th:only-of-type {\n",
       "        vertical-align: middle;\n",
       "    }\n",
       "\n",
       "    .dataframe tbody tr th {\n",
       "        vertical-align: top;\n",
       "    }\n",
       "\n",
       "    .dataframe thead th {\n",
       "        text-align: right;\n",
       "    }\n",
       "</style>\n",
       "<table border=\"1\" class=\"dataframe\">\n",
       "  <thead>\n",
       "    <tr style=\"text-align: right;\">\n",
       "      <th></th>\n",
       "      <th>ID</th>\n",
       "      <th>Gender</th>\n",
       "      <th>Age</th>\n",
       "      <th>Region_Code</th>\n",
       "      <th>Occupation</th>\n",
       "      <th>Channel_Code</th>\n",
       "      <th>Vintage</th>\n",
       "      <th>Credit_Product</th>\n",
       "      <th>Avg_Account_Balance</th>\n",
       "      <th>Is_Active</th>\n",
       "      <th>Is_Lead</th>\n",
       "      <th>source</th>\n",
       "    </tr>\n",
       "  </thead>\n",
       "  <tbody>\n",
       "    <tr>\n",
       "      <th>0</th>\n",
       "      <td>NNVBBKZB</td>\n",
       "      <td>Female</td>\n",
       "      <td>73</td>\n",
       "      <td>RG268</td>\n",
       "      <td>Other</td>\n",
       "      <td>X3</td>\n",
       "      <td>43</td>\n",
       "      <td>No</td>\n",
       "      <td>1045696</td>\n",
       "      <td>No</td>\n",
       "      <td>0.0</td>\n",
       "      <td>train</td>\n",
       "    </tr>\n",
       "    <tr>\n",
       "      <th>1</th>\n",
       "      <td>IDD62UNG</td>\n",
       "      <td>Female</td>\n",
       "      <td>30</td>\n",
       "      <td>RG277</td>\n",
       "      <td>Salaried</td>\n",
       "      <td>X1</td>\n",
       "      <td>32</td>\n",
       "      <td>No</td>\n",
       "      <td>581988</td>\n",
       "      <td>No</td>\n",
       "      <td>0.0</td>\n",
       "      <td>train</td>\n",
       "    </tr>\n",
       "    <tr>\n",
       "      <th>2</th>\n",
       "      <td>HD3DSEMC</td>\n",
       "      <td>Female</td>\n",
       "      <td>56</td>\n",
       "      <td>RG268</td>\n",
       "      <td>Self_Employed</td>\n",
       "      <td>X3</td>\n",
       "      <td>26</td>\n",
       "      <td>No</td>\n",
       "      <td>1484315</td>\n",
       "      <td>Yes</td>\n",
       "      <td>0.0</td>\n",
       "      <td>train</td>\n",
       "    </tr>\n",
       "    <tr>\n",
       "      <th>3</th>\n",
       "      <td>BF3NC7KV</td>\n",
       "      <td>Male</td>\n",
       "      <td>34</td>\n",
       "      <td>RG270</td>\n",
       "      <td>Salaried</td>\n",
       "      <td>X1</td>\n",
       "      <td>19</td>\n",
       "      <td>No</td>\n",
       "      <td>470454</td>\n",
       "      <td>No</td>\n",
       "      <td>0.0</td>\n",
       "      <td>train</td>\n",
       "    </tr>\n",
       "    <tr>\n",
       "      <th>4</th>\n",
       "      <td>TEASRWXV</td>\n",
       "      <td>Female</td>\n",
       "      <td>30</td>\n",
       "      <td>RG282</td>\n",
       "      <td>Salaried</td>\n",
       "      <td>X1</td>\n",
       "      <td>33</td>\n",
       "      <td>No</td>\n",
       "      <td>886787</td>\n",
       "      <td>No</td>\n",
       "      <td>0.0</td>\n",
       "      <td>train</td>\n",
       "    </tr>\n",
       "  </tbody>\n",
       "</table>\n",
       "</div>"
      ],
      "text/plain": [
       "         ID  Gender  Age Region_Code     Occupation Channel_Code  Vintage  \\\n",
       "0  NNVBBKZB  Female   73       RG268          Other           X3       43   \n",
       "1  IDD62UNG  Female   30       RG277       Salaried           X1       32   \n",
       "2  HD3DSEMC  Female   56       RG268  Self_Employed           X3       26   \n",
       "3  BF3NC7KV    Male   34       RG270       Salaried           X1       19   \n",
       "4  TEASRWXV  Female   30       RG282       Salaried           X1       33   \n",
       "\n",
       "  Credit_Product  Avg_Account_Balance Is_Active  Is_Lead source  \n",
       "0             No              1045696        No      0.0  train  \n",
       "1             No               581988        No      0.0  train  \n",
       "2             No              1484315       Yes      0.0  train  \n",
       "3             No               470454        No      0.0  train  \n",
       "4             No               886787        No      0.0  train  "
      ]
     },
     "execution_count": 6,
     "metadata": {},
     "output_type": "execute_result"
    }
   ],
   "source": [
    "data.head()"
   ]
  },
  {
   "cell_type": "code",
   "execution_count": 7,
   "metadata": {
    "execution": {
     "iopub.execute_input": "2021-05-28T12:01:09.610451Z",
     "iopub.status.busy": "2021-05-28T12:01:09.609723Z",
     "iopub.status.idle": "2021-05-28T12:01:09.780649Z",
     "shell.execute_reply": "2021-05-28T12:01:09.781069Z",
     "shell.execute_reply.started": "2021-05-28T11:29:27.202076Z"
    },
    "papermill": {
     "duration": 0.249199,
     "end_time": "2021-05-28T12:01:09.781231",
     "exception": false,
     "start_time": "2021-05-28T12:01:09.532032",
     "status": "completed"
    },
    "tags": []
   },
   "outputs": [
    {
     "data": {
      "text/plain": [
       "ID                          0\n",
       "Gender                      0\n",
       "Age                         0\n",
       "Region_Code                 0\n",
       "Occupation                  0\n",
       "Channel_Code                0\n",
       "Vintage                     0\n",
       "Credit_Product          41847\n",
       "Avg_Account_Balance         0\n",
       "Is_Active                   0\n",
       "Is_Lead                105312\n",
       "source                      0\n",
       "dtype: int64"
      ]
     },
     "execution_count": 7,
     "metadata": {},
     "output_type": "execute_result"
    }
   ],
   "source": [
    "# Check if some of the data are missing\n",
    "data.isnull().sum()"
   ]
  },
  {
   "cell_type": "code",
   "execution_count": 8,
   "metadata": {
    "execution": {
     "iopub.execute_input": "2021-05-28T12:01:09.830999Z",
     "iopub.status.busy": "2021-05-28T12:01:09.830361Z",
     "iopub.status.idle": "2021-05-28T12:01:09.833516Z",
     "shell.execute_reply": "2021-05-28T12:01:09.833960Z",
     "shell.execute_reply.started": "2021-05-28T11:29:27.434225Z"
    },
    "papermill": {
     "duration": 0.031633,
     "end_time": "2021-05-28T12:01:09.834095",
     "exception": false,
     "start_time": "2021-05-28T12:01:09.802462",
     "status": "completed"
    },
    "tags": []
   },
   "outputs": [
    {
     "data": {
      "text/plain": [
       "ID                      object\n",
       "Gender                  object\n",
       "Age                      int64\n",
       "Region_Code             object\n",
       "Occupation              object\n",
       "Channel_Code            object\n",
       "Vintage                  int64\n",
       "Credit_Product          object\n",
       "Avg_Account_Balance      int64\n",
       "Is_Active               object\n",
       "Is_Lead                float64\n",
       "source                  object\n",
       "dtype: object"
      ]
     },
     "execution_count": 8,
     "metadata": {},
     "output_type": "execute_result"
    }
   ],
   "source": [
    "# Check the data types of columns\n",
    "data.dtypes"
   ]
  },
  {
   "cell_type": "code",
   "execution_count": 9,
   "metadata": {
    "execution": {
     "iopub.execute_input": "2021-05-28T12:01:09.881570Z",
     "iopub.status.busy": "2021-05-28T12:01:09.880875Z",
     "iopub.status.idle": "2021-05-28T12:01:10.128699Z",
     "shell.execute_reply": "2021-05-28T12:01:10.129155Z",
     "shell.execute_reply.started": "2021-05-28T11:29:27.443633Z"
    },
    "papermill": {
     "duration": 0.273441,
     "end_time": "2021-05-28T12:01:10.129310",
     "exception": false,
     "start_time": "2021-05-28T12:01:09.855869",
     "status": "completed"
    },
    "tags": []
   },
   "outputs": [
    {
     "data": {
      "text/plain": [
       "ID                     351037\n",
       "Gender                      2\n",
       "Age                        63\n",
       "Region_Code                35\n",
       "Occupation                  4\n",
       "Channel_Code                4\n",
       "Vintage                    66\n",
       "Credit_Product              2\n",
       "Avg_Account_Balance    162137\n",
       "Is_Active                   2\n",
       "Is_Lead                     2\n",
       "source                      2\n",
       "dtype: int64"
      ]
     },
     "execution_count": 9,
     "metadata": {},
     "output_type": "execute_result"
    }
   ],
   "source": [
    "# Find the number of unique values in each column\n",
    "data.nunique()"
   ]
  },
  {
   "cell_type": "code",
   "execution_count": 10,
   "metadata": {
    "execution": {
     "iopub.execute_input": "2021-05-28T12:01:10.188108Z",
     "iopub.status.busy": "2021-05-28T12:01:10.187185Z",
     "iopub.status.idle": "2021-05-28T12:01:10.293036Z",
     "shell.execute_reply": "2021-05-28T12:01:10.292373Z",
     "shell.execute_reply.started": "2021-05-28T11:29:27.696350Z"
    },
    "papermill": {
     "duration": 0.141551,
     "end_time": "2021-05-28T12:01:10.293228",
     "exception": false,
     "start_time": "2021-05-28T12:01:10.151677",
     "status": "completed"
    },
    "tags": []
   },
   "outputs": [
    {
     "data": {
      "text/plain": [
       "No     205965\n",
       "Yes    103225\n",
       "Name: Credit_Product, dtype: int64"
      ]
     },
     "execution_count": 10,
     "metadata": {},
     "output_type": "execute_result"
    }
   ],
   "source": [
    "data['Credit_Product'].value_counts()"
   ]
  },
  {
   "cell_type": "code",
   "execution_count": 11,
   "metadata": {
    "execution": {
     "iopub.execute_input": "2021-05-28T12:01:10.521022Z",
     "iopub.status.busy": "2021-05-28T12:01:10.520233Z",
     "iopub.status.idle": "2021-05-28T12:01:10.548641Z",
     "shell.execute_reply": "2021-05-28T12:01:10.547972Z",
     "shell.execute_reply.started": "2021-05-28T11:29:27.769038Z"
    },
    "papermill": {
     "duration": 0.214076,
     "end_time": "2021-05-28T12:01:10.548813",
     "exception": false,
     "start_time": "2021-05-28T12:01:10.334737",
     "status": "completed"
    },
    "tags": []
   },
   "outputs": [],
   "source": [
    "# Impute missing data \n",
    "data['Credit_Product'].replace(np.nan,'Yes',inplace=True)"
   ]
  },
  {
   "cell_type": "code",
   "execution_count": 12,
   "metadata": {
    "execution": {
     "iopub.execute_input": "2021-05-28T12:01:10.757248Z",
     "iopub.status.busy": "2021-05-28T12:01:10.756407Z",
     "iopub.status.idle": "2021-05-28T12:01:12.631166Z",
     "shell.execute_reply": "2021-05-28T12:01:12.630679Z",
     "shell.execute_reply.started": "2021-05-28T11:29:27.801519Z"
    },
    "papermill": {
     "duration": 1.984208,
     "end_time": "2021-05-28T12:01:12.631301",
     "exception": false,
     "start_time": "2021-05-28T12:01:10.647093",
     "status": "completed"
    },
    "tags": []
   },
   "outputs": [
    {
     "data": {
      "image/png": "[encoded data removed]",
      "text/plain": [
       "<Figure size 432x288 with 1 Axes>"
      ]
     },
     "metadata": {
      "needs_background": "light"
     },
     "output_type": "display_data"
    }
   ],
   "source": [
    "sns.distplot(data['Avg_Account_Balance'])\n",
    "plt.show()"
   ]
  },
  {
   "cell_type": "code",
   "execution_count": 13,
   "metadata": {
    "execution": {
     "iopub.execute_input": "2021-05-28T12:01:12.683150Z",
     "iopub.status.busy": "2021-05-28T12:01:12.682374Z",
     "iopub.status.idle": "2021-05-28T12:01:14.376793Z",
     "shell.execute_reply": "2021-05-28T12:01:14.376011Z",
     "shell.execute_reply.started": "2021-05-28T11:29:29.281476Z"
    },
    "papermill": {
     "duration": 1.722273,
     "end_time": "2021-05-28T12:01:14.376985",
     "exception": false,
     "start_time": "2021-05-28T12:01:12.654712",
     "status": "completed"
    },
    "tags": []
   },
   "outputs": [
    {
     "data": {
      "image/png": "[encoded data removed]",
      "text/plain": [
       "<Figure size 432x288 with 1 Axes>"
      ]
     },
     "metadata": {
      "needs_background": "light"
     },
     "output_type": "display_data"
    }
   ],
   "source": [
    "data['Avg_Account_Balance'] = np.log(data['Avg_Account_Balance'])\n",
    "sns.distplot(data['Avg_Account_Balance'])\n",
    "plt.show()"
   ]
  },
  {
   "cell_type": "code",
   "execution_count": 14,
   "metadata": {
    "execution": {
     "iopub.execute_input": "2021-05-28T12:01:14.466803Z",
     "iopub.status.busy": "2021-05-28T12:01:14.465160Z",
     "iopub.status.idle": "2021-05-28T12:01:14.634064Z",
     "shell.execute_reply": "2021-05-28T12:01:14.633620Z",
     "shell.execute_reply.started": "2021-05-28T11:29:30.927534Z"
    },
    "papermill": {
     "duration": 0.232779,
     "end_time": "2021-05-28T12:01:14.634207",
     "exception": false,
     "start_time": "2021-05-28T12:01:14.401428",
     "status": "completed"
    },
    "tags": []
   },
   "outputs": [],
   "source": [
    "train = data.loc[data['source']==\"train\"]\n",
    "test = data.loc[data['source']==\"test\"]\n",
    "\n",
    "# Drop unnecessary columns:\n",
    "test.drop(['Is_Lead','source'],axis=1,inplace=True)\n",
    "train.drop('source',axis=1,inplace=True)"
   ]
  },
  {
   "cell_type": "code",
   "execution_count": 15,
   "metadata": {
    "execution": {
     "iopub.execute_input": "2021-05-28T12:01:14.688359Z",
     "iopub.status.busy": "2021-05-28T12:01:14.687662Z",
     "iopub.status.idle": "2021-05-28T12:01:14.709321Z",
     "shell.execute_reply": "2021-05-28T12:01:14.708863Z",
     "shell.execute_reply.started": "2021-05-28T11:29:31.082864Z"
    },
    "papermill": {
     "duration": 0.051503,
     "end_time": "2021-05-28T12:01:14.709448",
     "exception": false,
     "start_time": "2021-05-28T12:01:14.657945",
     "status": "completed"
    },
    "tags": []
   },
   "outputs": [],
   "source": [
    "train.drop('ID',axis=1,inplace=True)\n",
    "test.drop(\"ID\",axis=1,inplace = True)"
   ]
  },
  {
   "cell_type": "code",
   "execution_count": 16,
   "metadata": {
    "execution": {
     "iopub.execute_input": "2021-05-28T12:01:14.763992Z",
     "iopub.status.busy": "2021-05-28T12:01:14.763373Z",
     "iopub.status.idle": "2021-05-28T12:01:14.766510Z",
     "shell.execute_reply": "2021-05-28T12:01:14.766893Z",
     "shell.execute_reply.started": "2021-05-28T11:29:31.109851Z"
    },
    "papermill": {
     "duration": 0.033583,
     "end_time": "2021-05-28T12:01:14.767019",
     "exception": false,
     "start_time": "2021-05-28T12:01:14.733436",
     "status": "completed"
    },
    "tags": []
   },
   "outputs": [
    {
     "data": {
      "text/plain": [
       "Gender                  object\n",
       "Age                      int64\n",
       "Region_Code             object\n",
       "Occupation              object\n",
       "Channel_Code            object\n",
       "Vintage                  int64\n",
       "Credit_Product          object\n",
       "Avg_Account_Balance    float64\n",
       "Is_Active               object\n",
       "Is_Lead                float64\n",
       "dtype: object"
      ]
     },
     "execution_count": 16,
     "metadata": {},
     "output_type": "execute_result"
    }
   ],
   "source": [
    "train.dtypes"
   ]
  },
  {
   "cell_type": "code",
   "execution_count": 17,
   "metadata": {
    "execution": {
     "iopub.execute_input": "2021-05-28T12:01:14.818669Z",
     "iopub.status.busy": "2021-05-28T12:01:14.818124Z",
     "iopub.status.idle": "2021-05-28T12:01:15.581274Z",
     "shell.execute_reply": "2021-05-28T12:01:15.580800Z",
     "shell.execute_reply.started": "2021-05-28T11:29:31.119659Z"
    },
    "papermill": {
     "duration": 0.790922,
     "end_time": "2021-05-28T12:01:15.581404",
     "exception": false,
     "start_time": "2021-05-28T12:01:14.790482",
     "status": "completed"
    },
    "tags": []
   },
   "outputs": [],
   "source": [
    "from sklearn.preprocessing import LabelEncoder\n",
    "le = LabelEncoder()\n",
    "var_mod = ['Gender','Region_Code','Occupation','Channel_Code','Credit_Product','Is_Active']\n",
    "for i in var_mod:\n",
    "    train[i] = le.fit_transform(train[i])\n",
    "    test[i] = le.fit_transform(test[i])"
   ]
  },
  {
   "cell_type": "code",
   "execution_count": 18,
   "metadata": {
    "execution": {
     "iopub.execute_input": "2021-05-28T12:01:15.637487Z",
     "iopub.status.busy": "2021-05-28T12:01:15.635844Z",
     "iopub.status.idle": "2021-05-28T12:01:15.649558Z",
     "shell.execute_reply": "2021-05-28T12:01:15.649124Z",
     "shell.execute_reply.started": "2021-05-28T11:29:31.773906Z"
    },
    "papermill": {
     "duration": 0.04426,
     "end_time": "2021-05-28T12:01:15.649682",
     "exception": false,
     "start_time": "2021-05-28T12:01:15.605422",
     "status": "completed"
    },
    "tags": []
   },
   "outputs": [],
   "source": [
    "X = train.drop('Is_Lead',axis=1)\n",
    "y = train['Is_Lead']"
   ]
  },
  {
   "cell_type": "code",
   "execution_count": 19,
   "metadata": {
    "execution": {
     "iopub.execute_input": "2021-05-28T12:01:15.705335Z",
     "iopub.status.busy": "2021-05-28T12:01:15.704679Z",
     "iopub.status.idle": "2021-05-28T12:01:15.759827Z",
     "shell.execute_reply": "2021-05-28T12:01:15.759305Z",
     "shell.execute_reply.started": "2021-05-28T11:29:31.792650Z"
    },
    "papermill": {
     "duration": 0.085766,
     "end_time": "2021-05-28T12:01:15.759942",
     "exception": false,
     "start_time": "2021-05-28T12:01:15.674176",
     "status": "completed"
    },
    "tags": []
   },
   "outputs": [],
   "source": [
    "from sklearn.model_selection import KFold, StratifiedKFold\n",
    "from sklearn.metrics import roc_auc_score\n",
    "\n",
    "def cross_val(X, y, model, params, folds=9):\n",
    "\n",
    "    skf = StratifiedKFold(n_splits=folds, shuffle=True, random_state=21)\n",
    "    for fold, (train_idx, test_idx) in enumerate(skf.split(X, y)):\n",
    "        print(f\"Fold: {fold}\")\n",
    "        x_train, y_train = X.iloc[train_idx], y.iloc[train_idx]\n",
    "        x_test, y_test = X.iloc[test_idx], y.iloc[test_idx]\n",
    "\n",
    "        alg = model(**params)\n",
    "        alg.fit(x_train, y_train,\n",
    "                eval_set=[(x_test, y_test)],\n",
    "                early_stopping_rounds=100,\n",
    "                verbose=400)\n",
    "\n",
    "        pred = alg.predict_proba(x_test)[:, 1]\n",
    "        roc_score = roc_auc_score(y_test, pred)\n",
    "        print(f\"roc_auc_score: {roc_score}\")\n",
    "        print(\"-\"*50)\n",
    "    \n",
    "    return alg"
   ]
  },
  {
   "cell_type": "code",
   "execution_count": 20,
   "metadata": {
    "execution": {
     "iopub.execute_input": "2021-05-28T12:01:15.811829Z",
     "iopub.status.busy": "2021-05-28T12:01:15.811326Z",
     "iopub.status.idle": "2021-05-28T12:01:15.815034Z",
     "shell.execute_reply": "2021-05-28T12:01:15.814644Z",
     "shell.execute_reply.started": "2021-05-28T11:29:31.802110Z"
    },
    "papermill": {
     "duration": 0.031323,
     "end_time": "2021-05-28T12:01:15.815157",
     "exception": false,
     "start_time": "2021-05-28T12:01:15.783834",
     "status": "completed"
    },
    "tags": []
   },
   "outputs": [],
   "source": [
    "lgb_params= {'learning_rate': 0.045, \n",
    "             'n_estimators': 20000, \n",
    "             'max_bin': 94,\n",
    "             'num_leaves': 10, \n",
    "             'max_depth': 27, \n",
    "             'reg_alpha': 8.457, \n",
    "             'reg_lambda': 6.853, \n",
    "             'subsample': 0.749}"
   ]
  },
  {
   "cell_type": "code",
   "execution_count": 21,
   "metadata": {
    "execution": {
     "iopub.execute_input": "2021-05-28T12:01:15.866173Z",
     "iopub.status.busy": "2021-05-28T12:01:15.865568Z",
     "iopub.status.idle": "2021-05-28T12:02:56.598402Z",
     "shell.execute_reply": "2021-05-28T12:02:56.599195Z",
     "shell.execute_reply.started": "2021-05-28T11:29:31.810347Z"
    },
    "papermill": {
     "duration": 100.760769,
     "end_time": "2021-05-28T12:02:56.599361",
     "exception": false,
     "start_time": "2021-05-28T12:01:15.838592",
     "status": "completed"
    },
    "tags": []
   },
   "outputs": [
    {
     "name": "stdout",
     "output_type": "stream",
     "text": [
      "Fold: 0\n",
      "Training until validation scores don't improve for 100 rounds\n",
      "[400]\tvalid_0's binary_logloss: 0.378501\n",
      "[800]\tvalid_0's binary_logloss: 0.37827\n",
      "Early stopping, best iteration is:\n",
      "[802]\tvalid_0's binary_logloss: 0.378264\n",
      "roc_auc_score: 0.8539183817995556\n",
      "--------------------------------------------------\n",
      "Fold: 1\n",
      "Training until validation scores don't improve for 100 rounds\n",
      "[400]\tvalid_0's binary_logloss: 0.382606\n",
      "Early stopping, best iteration is:\n",
      "[524]\tvalid_0's binary_logloss: 0.382519\n",
      "roc_auc_score: 0.8500343931608946\n",
      "--------------------------------------------------\n",
      "Fold: 2\n",
      "Training until validation scores don't improve for 100 rounds\n",
      "[400]\tvalid_0's binary_logloss: 0.384762\n",
      "Early stopping, best iteration is:\n",
      "[607]\tvalid_0's binary_logloss: 0.38465\n",
      "roc_auc_score: 0.847290061663613\n",
      "--------------------------------------------------\n",
      "Fold: 3\n",
      "Training until validation scores don't improve for 100 rounds\n",
      "[400]\tvalid_0's binary_logloss: 0.383285\n",
      "Early stopping, best iteration is:\n",
      "[517]\tvalid_0's binary_logloss: 0.383167\n",
      "roc_auc_score: 0.8493604885557047\n",
      "--------------------------------------------------\n",
      "Fold: 4\n",
      "Training until validation scores don't improve for 100 rounds\n",
      "[400]\tvalid_0's binary_logloss: 0.380917\n",
      "Early stopping, best iteration is:\n",
      "[494]\tvalid_0's binary_logloss: 0.380823\n",
      "roc_auc_score: 0.8517737363514903\n",
      "--------------------------------------------------\n",
      "Fold: 5\n",
      "Training until validation scores don't improve for 100 rounds\n",
      "[400]\tvalid_0's binary_logloss: 0.382336\n",
      "Early stopping, best iteration is:\n",
      "[663]\tvalid_0's binary_logloss: 0.382243\n",
      "roc_auc_score: 0.8505607850758279\n",
      "--------------------------------------------------\n",
      "Fold: 6\n",
      "Training until validation scores don't improve for 100 rounds\n",
      "[400]\tvalid_0's binary_logloss: 0.378841\n",
      "Early stopping, best iteration is:\n",
      "[685]\tvalid_0's binary_logloss: 0.378685\n",
      "roc_auc_score: 0.8541274022666261\n",
      "--------------------------------------------------\n",
      "Fold: 7\n",
      "Training until validation scores don't improve for 100 rounds\n",
      "[400]\tvalid_0's binary_logloss: 0.38058\n",
      "[800]\tvalid_0's binary_logloss: 0.380368\n",
      "Early stopping, best iteration is:\n",
      "[832]\tvalid_0's binary_logloss: 0.38033\n",
      "roc_auc_score: 0.8533749327570593\n",
      "--------------------------------------------------\n",
      "Fold: 8\n",
      "Training until validation scores don't improve for 100 rounds\n",
      "[400]\tvalid_0's binary_logloss: 0.382945\n",
      "[800]\tvalid_0's binary_logloss: 0.382679\n",
      "Early stopping, best iteration is:\n",
      "[974]\tvalid_0's binary_logloss: 0.382578\n",
      "roc_auc_score: 0.8489208609089447\n",
      "--------------------------------------------------\n"
     ]
    }
   ],
   "source": [
    "from lightgbm import LGBMClassifier\n",
    "lgb_model = cross_val(X, y, LGBMClassifier, lgb_params)"
   ]
  },
  {
   "cell_type": "code",
   "execution_count": 22,
   "metadata": {
    "execution": {
     "iopub.execute_input": "2021-05-28T12:02:56.674791Z",
     "iopub.status.busy": "2021-05-28T12:02:56.674180Z",
     "iopub.status.idle": "2021-05-28T12:02:56.678250Z",
     "shell.execute_reply": "2021-05-28T12:02:56.677833Z",
     "shell.execute_reply.started": "2021-05-28T11:30:29.741453Z"
    },
    "papermill": {
     "duration": 0.043608,
     "end_time": "2021-05-28T12:02:56.678364",
     "exception": false,
     "start_time": "2021-05-28T12:02:56.634756",
     "status": "completed"
    },
    "tags": []
   },
   "outputs": [],
   "source": [
    "xgb_params= {'n_estimators': 20000, \n",
    "             'max_depth': 6, \n",
    "             'learning_rate': 0.0201, \n",
    "             'reg_lambda': 29.326, \n",
    "             'subsample': 0.818, \n",
    "             'colsample_bytree': 0.235, \n",
    "             'colsample_bynode': 0.820, \n",
    "             'colsample_bylevel': 0.453}"
   ]
  },
  {
   "cell_type": "code",
   "execution_count": 23,
   "metadata": {
    "execution": {
     "iopub.execute_input": "2021-05-28T12:02:56.753684Z",
     "iopub.status.busy": "2021-05-28T12:02:56.752992Z",
     "iopub.status.idle": "2021-05-28T12:37:16.934596Z",
     "shell.execute_reply": "2021-05-28T12:37:16.935499Z",
     "shell.execute_reply.started": "2021-05-28T11:30:29.747456Z"
    },
    "papermill": {
     "duration": 2060.222131,
     "end_time": "2021-05-28T12:37:16.935748",
     "exception": false,
     "start_time": "2021-05-28T12:02:56.713617",
     "status": "completed"
    },
    "scrolled": true,
    "tags": []
   },
   "outputs": [
    {
     "name": "stdout",
     "output_type": "stream",
     "text": [
      "Fold: 0\n",
      "[23:24:38] WARNING: /Users/travis/build/dmlc/xgboost/src/learner.cc:1095: Starting in XGBoost 1.3.0, the default evaluation metric used with the objective 'binary:logistic' was changed from 'error' to 'logloss'. Explicitly set eval_metric if you'd like to restore the old behavior.\n",
      "[0]\tvalidation_0-logloss:0.68532\n",
      "[400]\tvalidation_0-logloss:0.39639\n",
      "[800]\tvalidation_0-logloss:0.38730\n",
      "[1200]\tvalidation_0-logloss:0.38480\n",
      "[1600]\tvalidation_0-logloss:0.38335\n",
      "[2000]\tvalidation_0-logloss:0.38267\n",
      "[2400]\tvalidation_0-logloss:0.38214\n",
      "[2800]\tvalidation_0-logloss:0.38179\n",
      "[3200]\tvalidation_0-logloss:0.38136\n",
      "[3600]\tvalidation_0-logloss:0.38100\n",
      "[3733]\tvalidation_0-logloss:0.38094\n",
      "roc_auc_score: 0.8523326063328317\n",
      "--------------------------------------------------\n",
      "Fold: 1\n",
      "[23:26:10] WARNING: /Users/travis/build/dmlc/xgboost/src/learner.cc:1095: Starting in XGBoost 1.3.0, the default evaluation metric used with the objective 'binary:logistic' was changed from 'error' to 'logloss'. Explicitly set eval_metric if you'd like to restore the old behavior.\n",
      "[0]\tvalidation_0-logloss:0.68446\n",
      "[400]\tvalidation_0-logloss:0.39816\n",
      "[800]\tvalidation_0-logloss:0.39003\n",
      "[1200]\tvalidation_0-logloss:0.38783\n",
      "[1600]\tvalidation_0-logloss:0.38655\n",
      "[2000]\tvalidation_0-logloss:0.38599\n",
      "[2400]\tvalidation_0-logloss:0.38547\n",
      "[2800]\tvalidation_0-logloss:0.38515\n",
      "[3200]\tvalidation_0-logloss:0.38481\n",
      "[3600]\tvalidation_0-logloss:0.38459\n",
      "[3733]\tvalidation_0-logloss:0.38457\n",
      "roc_auc_score: 0.8491595206524006\n",
      "--------------------------------------------------\n",
      "Fold: 2\n",
      "[23:27:45] WARNING: /Users/travis/build/dmlc/xgboost/src/learner.cc:1095: Starting in XGBoost 1.3.0, the default evaluation metric used with the objective 'binary:logistic' was changed from 'error' to 'logloss'. Explicitly set eval_metric if you'd like to restore the old behavior.\n",
      "[0]\tvalidation_0-logloss:0.68534\n",
      "[400]\tvalidation_0-logloss:0.40030\n",
      "[800]\tvalidation_0-logloss:0.39195\n",
      "[1200]\tvalidation_0-logloss:0.38941\n",
      "[1600]\tvalidation_0-logloss:0.38807\n",
      "[2000]\tvalidation_0-logloss:0.38735\n",
      "[2400]\tvalidation_0-logloss:0.38684\n",
      "[2800]\tvalidation_0-logloss:0.38651\n",
      "[3200]\tvalidation_0-logloss:0.38617\n",
      "[3600]\tvalidation_0-logloss:0.38596\n",
      "[4000]\tvalidation_0-logloss:0.38580\n",
      "[4278]\tvalidation_0-logloss:0.38575\n",
      "roc_auc_score: 0.8473448491652149\n",
      "--------------------------------------------------\n",
      "Fold: 3\n",
      "[23:29:37] WARNING: /Users/travis/build/dmlc/xgboost/src/learner.cc:1095: Starting in XGBoost 1.3.0, the default evaluation metric used with the objective 'binary:logistic' was changed from 'error' to 'logloss'. Explicitly set eval_metric if you'd like to restore the old behavior.\n",
      "[0]\tvalidation_0-logloss:0.68511\n",
      "[400]\tvalidation_0-logloss:0.40039\n",
      "[800]\tvalidation_0-logloss:0.39239\n",
      "[1200]\tvalidation_0-logloss:0.38988\n",
      "[1600]\tvalidation_0-logloss:0.38838\n",
      "[2000]\tvalidation_0-logloss:0.38753\n",
      "[2400]\tvalidation_0-logloss:0.38696\n",
      "[2800]\tvalidation_0-logloss:0.38652\n",
      "[3200]\tvalidation_0-logloss:0.38607\n",
      "[3600]\tvalidation_0-logloss:0.38576\n",
      "[3822]\tvalidation_0-logloss:0.38566\n",
      "roc_auc_score: 0.8476879479918756\n",
      "--------------------------------------------------\n",
      "Fold: 4\n",
      "[23:31:17] WARNING: /Users/travis/build/dmlc/xgboost/src/learner.cc:1095: Starting in XGBoost 1.3.0, the default evaluation metric used with the objective 'binary:logistic' was changed from 'error' to 'logloss'. Explicitly set eval_metric if you'd like to restore the old behavior.\n",
      "[0]\tvalidation_0-logloss:0.68525\n",
      "[400]\tvalidation_0-logloss:0.39736\n",
      "[800]\tvalidation_0-logloss:0.38851\n",
      "[1200]\tvalidation_0-logloss:0.38603\n",
      "[1600]\tvalidation_0-logloss:0.38465\n",
      "[2000]\tvalidation_0-logloss:0.38393\n",
      "[2400]\tvalidation_0-logloss:0.38341\n",
      "[2800]\tvalidation_0-logloss:0.38304\n",
      "[3200]\tvalidation_0-logloss:0.38272\n",
      "[3600]\tvalidation_0-logloss:0.38249\n",
      "[4000]\tvalidation_0-logloss:0.38234\n",
      "[4400]\tvalidation_0-logloss:0.38224\n",
      "[4800]\tvalidation_0-logloss:0.38211\n",
      "[5200]\tvalidation_0-logloss:0.38202\n",
      "[5543]\tvalidation_0-logloss:0.38198\n",
      "roc_auc_score: 0.8518681947977138\n",
      "--------------------------------------------------\n",
      "Fold: 5\n",
      "[23:33:41] WARNING: /Users/travis/build/dmlc/xgboost/src/learner.cc:1095: Starting in XGBoost 1.3.0, the default evaluation metric used with the objective 'binary:logistic' was changed from 'error' to 'logloss'. Explicitly set eval_metric if you'd like to restore the old behavior.\n",
      "[0]\tvalidation_0-logloss:0.68518\n",
      "[400]\tvalidation_0-logloss:0.39801\n",
      "[800]\tvalidation_0-logloss:0.38976\n",
      "[1200]\tvalidation_0-logloss:0.38742\n",
      "[1600]\tvalidation_0-logloss:0.38604\n",
      "[2000]\tvalidation_0-logloss:0.38531\n",
      "[2400]\tvalidation_0-logloss:0.38478\n",
      "[2800]\tvalidation_0-logloss:0.38433\n",
      "[3200]\tvalidation_0-logloss:0.38393\n",
      "[3600]\tvalidation_0-logloss:0.38361\n",
      "[4000]\tvalidation_0-logloss:0.38340\n",
      "[4400]\tvalidation_0-logloss:0.38325\n",
      "[4800]\tvalidation_0-logloss:0.38310\n",
      "[5200]\tvalidation_0-logloss:0.38292\n",
      "[5462]\tvalidation_0-logloss:0.38286\n",
      "roc_auc_score: 0.8504748854551873\n",
      "--------------------------------------------------\n",
      "Fold: 6\n",
      "[23:36:14] WARNING: /Users/travis/build/dmlc/xgboost/src/learner.cc:1095: Starting in XGBoost 1.3.0, the default evaluation metric used with the objective 'binary:logistic' was changed from 'error' to 'logloss'. Explicitly set eval_metric if you'd like to restore the old behavior.\n",
      "[0]\tvalidation_0-logloss:0.68520\n",
      "[400]\tvalidation_0-logloss:0.39590\n",
      "[800]\tvalidation_0-logloss:0.38700\n",
      "[1200]\tvalidation_0-logloss:0.38439\n",
      "[1600]\tvalidation_0-logloss:0.38280\n",
      "[2000]\tvalidation_0-logloss:0.38203\n",
      "[2400]\tvalidation_0-logloss:0.38141\n",
      "[2800]\tvalidation_0-logloss:0.38092\n",
      "[3200]\tvalidation_0-logloss:0.38048\n",
      "[3600]\tvalidation_0-logloss:0.38017\n",
      "[3732]\tvalidation_0-logloss:0.38013\n",
      "roc_auc_score: 0.8537055696685363\n",
      "--------------------------------------------------\n",
      "Fold: 7\n",
      "[23:37:55] WARNING: /Users/travis/build/dmlc/xgboost/src/learner.cc:1095: Starting in XGBoost 1.3.0, the default evaluation metric used with the objective 'binary:logistic' was changed from 'error' to 'logloss'. Explicitly set eval_metric if you'd like to restore the old behavior.\n",
      "[0]\tvalidation_0-logloss:0.68532\n",
      "[400]\tvalidation_0-logloss:0.40225\n",
      "[800]\tvalidation_0-logloss:0.39066\n",
      "[1200]\tvalidation_0-logloss:0.38685\n",
      "[1600]\tvalidation_0-logloss:0.38549\n",
      "[2000]\tvalidation_0-logloss:0.38431\n",
      "[2400]\tvalidation_0-logloss:0.38353\n",
      "[2800]\tvalidation_0-logloss:0.38290\n",
      "[3200]\tvalidation_0-logloss:0.38255\n",
      "[3600]\tvalidation_0-logloss:0.38225\n",
      "[4000]\tvalidation_0-logloss:0.38210\n",
      "[4400]\tvalidation_0-logloss:0.38193\n",
      "[4800]\tvalidation_0-logloss:0.38180\n",
      "[5200]\tvalidation_0-logloss:0.38170\n",
      "[5600]\tvalidation_0-logloss:0.38160\n",
      "[5890]\tvalidation_0-logloss:0.38157\n",
      "roc_auc_score: 0.852580922567511\n",
      "--------------------------------------------------\n",
      "Fold: 8\n",
      "[23:40:33] WARNING: /Users/travis/build/dmlc/xgboost/src/learner.cc:1095: Starting in XGBoost 1.3.0, the default evaluation metric used with the objective 'binary:logistic' was changed from 'error' to 'logloss'. Explicitly set eval_metric if you'd like to restore the old behavior.\n",
      "[0]\tvalidation_0-logloss:0.68535\n",
      "[400]\tvalidation_0-logloss:0.40496\n",
      "[800]\tvalidation_0-logloss:0.39348\n",
      "[1200]\tvalidation_0-logloss:0.38964\n",
      "[1600]\tvalidation_0-logloss:0.38826\n",
      "[2000]\tvalidation_0-logloss:0.38695\n",
      "[2400]\tvalidation_0-logloss:0.38612\n",
      "[2800]\tvalidation_0-logloss:0.38540\n",
      "[3200]\tvalidation_0-logloss:0.38500\n",
      "[3600]\tvalidation_0-logloss:0.38478\n",
      "[4000]\tvalidation_0-logloss:0.38457\n",
      "[4400]\tvalidation_0-logloss:0.38442\n",
      "[4507]\tvalidation_0-logloss:0.38442\n",
      "roc_auc_score: 0.8482246491963443\n",
      "--------------------------------------------------\n"
     ]
    }
   ],
   "source": [
    "from xgboost import XGBClassifier\n",
    "xgb_model = cross_val(X, y, XGBClassifier, xgb_params)"
   ]
  },
  {
   "cell_type": "code",
   "execution_count": 24,
   "metadata": {
    "execution": {
     "iopub.execute_input": "2021-05-28T12:37:17.076844Z",
     "iopub.status.busy": "2021-05-28T12:37:17.076181Z",
     "iopub.status.idle": "2021-05-28T12:37:17.079877Z",
     "shell.execute_reply": "2021-05-28T12:37:17.079341Z",
     "shell.execute_reply.started": "2021-05-28T11:45:29.215505Z"
    },
    "papermill": {
     "duration": 0.076486,
     "end_time": "2021-05-28T12:37:17.080018",
     "exception": false,
     "start_time": "2021-05-28T12:37:17.003532",
     "status": "completed"
    },
    "tags": []
   },
   "outputs": [],
   "source": [
    "cat_params= {'n_estimators': 20000, \n",
    "                  'depth': 4, \n",
    "                  'learning_rate': 0.023, \n",
    "                  'colsample_bylevel': 0.655, \n",
    "                  'bagging_temperature': 0.921, \n",
    "                  'l2_leaf_reg': 10.133}"
   ]
  },
  {
   "cell_type": "code",
   "execution_count": 25,
   "metadata": {
    "execution": {
     "iopub.execute_input": "2021-05-28T12:37:17.248541Z",
     "iopub.status.busy": "2021-05-28T12:37:17.247350Z",
     "iopub.status.idle": "2021-05-28T12:53:57.973335Z",
     "shell.execute_reply": "2021-05-28T12:53:57.973733Z",
     "shell.execute_reply.started": "2021-05-28T11:45:29.222784Z"
    },
    "papermill": {
     "duration": 1000.825453,
     "end_time": "2021-05-28T12:53:57.973900",
     "exception": false,
     "start_time": "2021-05-28T12:37:17.148447",
     "status": "completed"
    },
    "scrolled": true,
    "tags": []
   },
   "outputs": [
    {
     "name": "stdout",
     "output_type": "stream",
     "text": [
      "Fold: 0\n",
      "0:\tlearn: 0.6764678\ttest: 0.6763910\tbest: 0.6763910 (0)\ttotal: 72ms\tremaining: 24m\n",
      "400:\tlearn: 0.3840812\ttest: 0.3812030\tbest: 0.3812030 (400)\ttotal: 5.93s\tremaining: 4m 50s\n",
      "800:\tlearn: 0.3817173\ttest: 0.3794133\tbest: 0.3794118 (798)\ttotal: 12s\tremaining: 4m 48s\n",
      "1200:\tlearn: 0.3805836\ttest: 0.3790285\tbest: 0.3790257 (1172)\ttotal: 18.2s\tremaining: 4m 45s\n",
      "1600:\tlearn: 0.3797168\ttest: 0.3788375\tbest: 0.3788351 (1592)\ttotal: 24.6s\tremaining: 4m 42s\n",
      "Stopped by overfitting detector  (100 iterations wait)\n",
      "\n",
      "bestTest = 0.3787357936\n",
      "bestIteration = 1870\n",
      "\n",
      "Shrink model to first 1871 iterations.\n",
      "roc_auc_score: 0.853560322362705\n",
      "--------------------------------------------------\n",
      "Fold: 1\n",
      "0:\tlearn: 0.6764287\ttest: 0.6764170\tbest: 0.6764170 (0)\ttotal: 17.6ms\tremaining: 5m 51s\n",
      "400:\tlearn: 0.3833520\ttest: 0.3847119\tbest: 0.3847119 (400)\ttotal: 6.22s\tremaining: 5m 3s\n",
      "800:\tlearn: 0.3809816\ttest: 0.3831576\tbest: 0.3831576 (800)\ttotal: 12.3s\tremaining: 4m 54s\n",
      "1200:\tlearn: 0.3798431\ttest: 0.3828315\tbest: 0.3828311 (1199)\ttotal: 18.4s\tremaining: 4m 48s\n",
      "1600:\tlearn: 0.3790174\ttest: 0.3827550\tbest: 0.3827535 (1587)\ttotal: 24.5s\tremaining: 4m 41s\n",
      "Stopped by overfitting detector  (100 iterations wait)\n",
      "\n",
      "bestTest = 0.3827534902\n",
      "bestIteration = 1587\n",
      "\n",
      "Shrink model to first 1588 iterations.\n",
      "roc_auc_score: 0.8498822270753509\n",
      "--------------------------------------------------\n",
      "Fold: 2\n",
      "0:\tlearn: 0.6763941\ttest: 0.6764304\tbest: 0.6764304 (0)\ttotal: 17.8ms\tremaining: 5m 55s\n",
      "400:\tlearn: 0.3835165\ttest: 0.3871323\tbest: 0.3871323 (400)\ttotal: 6s\tremaining: 4m 53s\n",
      "800:\tlearn: 0.3809127\ttest: 0.3854588\tbest: 0.3854588 (800)\ttotal: 12.1s\tremaining: 4m 49s\n",
      "1200:\tlearn: 0.3797248\ttest: 0.3851082\tbest: 0.3851038 (1182)\ttotal: 18.5s\tremaining: 4m 48s\n",
      "1600:\tlearn: 0.3788713\ttest: 0.3849893\tbest: 0.3849851 (1585)\ttotal: 25.1s\tremaining: 4m 49s\n",
      "2000:\tlearn: 0.3781508\ttest: 0.3849323\tbest: 0.3849216 (1961)\ttotal: 31.7s\tremaining: 4m 44s\n",
      "Stopped by overfitting detector  (100 iterations wait)\n",
      "\n",
      "bestTest = 0.3848999798\n",
      "bestIteration = 2057\n",
      "\n",
      "Shrink model to first 2058 iterations.\n",
      "roc_auc_score: 0.8479753224844466\n",
      "--------------------------------------------------\n",
      "Fold: 3\n",
      "0:\tlearn: 0.6764139\ttest: 0.6764110\tbest: 0.6764110 (0)\ttotal: 14.3ms\tremaining: 4m 46s\n",
      "400:\tlearn: 0.3833872\ttest: 0.3856492\tbest: 0.3856492 (400)\ttotal: 5.98s\tremaining: 4m 52s\n",
      "800:\tlearn: 0.3811366\ttest: 0.3841132\tbest: 0.3841099 (789)\ttotal: 12s\tremaining: 4m 48s\n",
      "1200:\tlearn: 0.3799180\ttest: 0.3836772\tbest: 0.3836736 (1176)\ttotal: 18.2s\tremaining: 4m 44s\n",
      "Stopped by overfitting detector  (100 iterations wait)\n",
      "\n",
      "bestTest = 0.3835671804\n",
      "bestIteration = 1377\n",
      "\n",
      "Shrink model to first 1378 iterations.\n",
      "roc_auc_score: 0.8491200667340786\n",
      "--------------------------------------------------\n",
      "Fold: 4\n",
      "0:\tlearn: 0.6764543\ttest: 0.6764753\tbest: 0.6764753 (0)\ttotal: 14.5ms\tremaining: 4m 49s\n",
      "400:\tlearn: 0.3835321\ttest: 0.3829074\tbest: 0.3829074 (400)\ttotal: 5.63s\tremaining: 4m 35s\n",
      "800:\tlearn: 0.3813088\ttest: 0.3812588\tbest: 0.3812588 (800)\ttotal: 11.7s\tremaining: 4m 41s\n",
      "1200:\tlearn: 0.3801601\ttest: 0.3808816\tbest: 0.3808806 (1195)\ttotal: 18s\tremaining: 4m 41s\n",
      "1600:\tlearn: 0.3793634\ttest: 0.3807614\tbest: 0.3807559 (1587)\ttotal: 24.3s\tremaining: 4m 38s\n",
      "Stopped by overfitting detector  (100 iterations wait)\n",
      "\n",
      "bestTest = 0.3807558834\n",
      "bestIteration = 1587\n",
      "\n",
      "Shrink model to first 1588 iterations.\n",
      "roc_auc_score: 0.85223880047092\n",
      "--------------------------------------------------\n",
      "Fold: 5\n",
      "0:\tlearn: 0.6764148\ttest: 0.6764313\tbest: 0.6764313 (0)\ttotal: 14.2ms\tremaining: 4m 43s\n",
      "400:\tlearn: 0.3834559\ttest: 0.3847013\tbest: 0.3847013 (400)\ttotal: 6.2s\tremaining: 5m 2s\n",
      "800:\tlearn: 0.3810624\ttest: 0.3829268\tbest: 0.3829249 (798)\ttotal: 12.6s\tremaining: 5m 1s\n",
      "1200:\tlearn: 0.3799617\ttest: 0.3824759\tbest: 0.3824722 (1179)\ttotal: 20s\tremaining: 5m 12s\n",
      "1600:\tlearn: 0.3791398\ttest: 0.3822675\tbest: 0.3822667 (1586)\ttotal: 27.5s\tremaining: 5m 16s\n",
      "2000:\tlearn: 0.3784059\ttest: 0.3821523\tbest: 0.3821494 (1997)\ttotal: 35s\tremaining: 5m 14s\n",
      "Stopped by overfitting detector  (100 iterations wait)\n",
      "\n",
      "bestTest = 0.3820902626\n",
      "bestIteration = 2193\n",
      "\n",
      "Shrink model to first 2194 iterations.\n",
      "roc_auc_score: 0.8507501690154917\n",
      "--------------------------------------------------\n",
      "Fold: 6\n",
      "0:\tlearn: 0.6764692\ttest: 0.6764527\tbest: 0.6764527 (0)\ttotal: 15.9ms\tremaining: 5m 18s\n",
      "400:\tlearn: 0.3839360\ttest: 0.3814748\tbest: 0.3814748 (399)\ttotal: 6.57s\tremaining: 5m 21s\n",
      "800:\tlearn: 0.3815553\ttest: 0.3796776\tbest: 0.3796776 (800)\ttotal: 13.4s\tremaining: 5m 20s\n",
      "1200:\tlearn: 0.3804080\ttest: 0.3791684\tbest: 0.3791684 (1200)\ttotal: 19.9s\tremaining: 5m 12s\n",
      "1600:\tlearn: 0.3795785\ttest: 0.3790484\tbest: 0.3790256 (1539)\ttotal: 26.9s\tremaining: 5m 9s\n",
      "Stopped by overfitting detector  (100 iterations wait)\n",
      "\n",
      "bestTest = 0.3790255777\n",
      "bestIteration = 1539\n",
      "\n",
      "Shrink model to first 1540 iterations.\n",
      "roc_auc_score: 0.8536688100871999\n",
      "--------------------------------------------------\n",
      "Fold: 7\n",
      "0:\tlearn: 0.6764441\ttest: 0.6764175\tbest: 0.6764175 (0)\ttotal: 16ms\tremaining: 5m 19s\n",
      "400:\tlearn: 0.3835372\ttest: 0.3831012\tbest: 0.3831012 (400)\ttotal: 6.4s\tremaining: 5m 12s\n",
      "800:\tlearn: 0.3812967\ttest: 0.3811999\tbest: 0.3811999 (800)\ttotal: 13.3s\tremaining: 5m 17s\n",
      "1200:\tlearn: 0.3802181\ttest: 0.3806915\tbest: 0.3806903 (1197)\ttotal: 20.6s\tremaining: 5m 22s\n",
      "1600:\tlearn: 0.3793547\ttest: 0.3804431\tbest: 0.3804431 (1600)\ttotal: 28.2s\tremaining: 5m 23s\n",
      "2000:\tlearn: 0.3786376\ttest: 0.3802879\tbest: 0.3802849 (1996)\ttotal: 35.1s\tremaining: 5m 15s\n",
      "Stopped by overfitting detector  (100 iterations wait)\n",
      "\n",
      "bestTest = 0.3802539749\n",
      "bestIteration = 2185\n",
      "\n",
      "Shrink model to first 2186 iterations.\n",
      "roc_auc_score: 0.8532816126940673\n",
      "--------------------------------------------------\n",
      "Fold: 8\n",
      "0:\tlearn: 0.6763894\ttest: 0.6764649\tbest: 0.6764649 (0)\ttotal: 15.7ms\tremaining: 5m 14s\n",
      "400:\tlearn: 0.3835298\ttest: 0.3855838\tbest: 0.3855838 (400)\ttotal: 6.62s\tremaining: 5m 23s\n",
      "800:\tlearn: 0.3810767\ttest: 0.3837731\tbest: 0.3837731 (800)\ttotal: 13.6s\tremaining: 5m 24s\n",
      "1200:\tlearn: 0.3798316\ttest: 0.3833323\tbest: 0.3833323 (1196)\ttotal: 20.3s\tremaining: 5m 18s\n",
      "1600:\tlearn: 0.3790146\ttest: 0.3832618\tbest: 0.3832515 (1511)\ttotal: 27.2s\tremaining: 5m 12s\n",
      "Stopped by overfitting detector  (100 iterations wait)\n",
      "\n",
      "bestTest = 0.3832515\n",
      "bestIteration = 1511\n",
      "\n",
      "Shrink model to first 1512 iterations.\n",
      "roc_auc_score: 0.8485292480766695\n",
      "--------------------------------------------------\n"
     ]
    }
   ],
   "source": [
    "from catboost import CatBoostClassifier\n",
    "cat_model = cross_val(X, y, CatBoostClassifier, cat_params)"
   ]
  },
  {
   "cell_type": "code",
   "execution_count": 26,
   "metadata": {
    "execution": {
     "iopub.execute_input": "2021-05-28T12:53:58.143672Z",
     "iopub.status.busy": "2021-05-28T12:53:58.142658Z",
     "iopub.status.idle": "2021-05-28T12:54:07.672339Z",
     "shell.execute_reply": "2021-05-28T12:54:07.673117Z",
     "shell.execute_reply.started": "2021-05-28T11:59:05.885179Z"
    },
    "papermill": {
     "duration": 9.618056,
     "end_time": "2021-05-28T12:54:07.673283",
     "exception": false,
     "start_time": "2021-05-28T12:53:58.055227",
     "status": "completed"
    },
    "tags": []
   },
   "outputs": [],
   "source": [
    "pred_test_lgb = lgb_model.predict_proba(test)[:,1]\n",
    "pred_test_xgb = xgb_model.predict_proba(test)[:,1]\n",
    "pred_test_cat = cat_model.predict_proba(test)[:,1]\n",
    "prediction = (pred_test_lgb + pred_test_cat+pred_test_xgb)/3"
   ]
  },
  {
   "cell_type": "code",
   "execution_count": 27,
   "metadata": {
    "execution": {
     "iopub.execute_input": "2021-05-28T12:54:07.842829Z",
     "iopub.status.busy": "2021-05-28T12:54:07.842299Z",
     "iopub.status.idle": "2021-05-28T12:54:07.909564Z",
     "shell.execute_reply": "2021-05-28T12:54:07.908482Z",
     "shell.execute_reply.started": "2021-05-28T11:53:23.547688Z"
    },
    "papermill": {
     "duration": 0.156352,
     "end_time": "2021-05-28T12:54:07.909695",
     "exception": false,
     "start_time": "2021-05-28T12:54:07.753343",
     "status": "completed"
    },
    "tags": []
   },
   "outputs": [],
   "source": [
    "sample_submission = pd.read_csv('sample_submission_eyYijxG.csv')"
   ]
  },
  {
   "cell_type": "code",
   "execution_count": 28,
   "metadata": {
    "execution": {
     "iopub.execute_input": "2021-05-28T12:54:08.077213Z",
     "iopub.status.busy": "2021-05-28T12:54:08.076518Z",
     "iopub.status.idle": "2021-05-28T12:54:08.448153Z",
     "shell.execute_reply": "2021-05-28T12:54:08.447682Z",
     "shell.execute_reply.started": "2021-05-28T11:59:17.274413Z"
    },
    "papermill": {
     "duration": 0.457998,
     "end_time": "2021-05-28T12:54:08.448296",
     "exception": false,
     "start_time": "2021-05-28T12:54:07.990298",
     "status": "completed"
    },
    "tags": []
   },
   "outputs": [],
   "source": [
    "sample_submission['Is_Lead'] = prediction\n",
    "sample_submission.to_csv(f'submission.csv',index=False)"
   ]
  }
 ],
 "metadata": {
  "kernelspec": {
   "display_name": "Python 3",
   "language": "python",
   "name": "python3"
  },
  "language_info": {
   "codemirror_mode": {
    "name": "ipython",
    "version": 3
   },
   "file_extension": ".py",
   "mimetype": "text/x-python",
   "name": "python",
   "nbconvert_exporter": "python",
   "pygments_lexer": "ipython3",
   "version": "3.8.3"
  },
  "papermill": {
   "default_parameters": {},
   "duration": 3190.624415,
   "end_time": "2021-05-28T12:54:11.623383",
   "environment_variables": {},
   "exception": null,
   "input_path": "__notebook__.ipynb",
   "output_path": "__notebook__.ipynb",
   "parameters": {},
   "start_time": "2021-05-28T12:01:00.998968",
   "version": "2.3.3"
  }
 },
 "nbformat": 4,
 "nbformat_minor": 5
}
